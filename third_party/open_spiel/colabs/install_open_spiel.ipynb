{
  "cells": [
    {
      "cell_type": "code",
      "execution_count": 0,
      "metadata": {
        "cellView": "form",
        "colab": {},
        "colab_type": "code",
        "id": "odj1Coq5H080"
      },
      "outputs": [],
      "source": [
        "#@title ##### License\n",
        "# Copyright 2019 DeepMind Technologies Ltd. All rights reserved.\n",
        "#\n",
        "# Licensed under the Apache License, Version 2.0 (the \"License\");\n",
        "# you may not use this file except in compliance with the License.\n",
        "# You may obtain a copy of the License at\n",
        "#\n",
        "#     http://www.apache.org/licenses/LICENSE-2.0\n",
        "#\n",
        "# Unless required by applicable law or agreed to in writing, software\n",
        "# distributed under the License is distributed on an \"AS IS\" BASIS,\n",
        "# WITHOUT WARRANTIES OR CONDITIONS OF ANY KIND, either express or implied.\n",
        "# See the License for the specific language governing permissions and\n",
        "# limitations under the License."
      ]
    },
    {
      "cell_type": "markdown",
      "metadata": {
        "colab_type": "text",
        "id": "dOOzDGYAZcW3"
      },
      "source": [
        "# OpenSpiel\n",
        "\n",
        "* This Colab get's you started with installing OpenSpiel and its dependencies.\n",
        "* OpenSpiel is a framework for reinforcement learning in games.\n",
        "* The insturctions are adapted from [here](https://github.com/deepmind/open_spiel/blob/master/docs/install.md)."
      ]
    },
    {
      "cell_type": "markdown",
      "metadata": {
        "colab_type": "text",
        "id": "XC6kQBzWahEF"
      },
      "source": [
        "## Install dependencies and clone repository"
      ]
    },
    {
      "cell_type": "markdown",
      "metadata": {
        "colab_type": "text",
        "id": "btLSDV1SaNeP"
      },
      "source": [
        "Let's first check the Python version, make sure to use a Python 3 runtime."
      ]
    },
    {
      "cell_type": "code",
      "execution_count": 0,
      "metadata": {
        "colab": {},
        "colab_type": "code",
        "id": "9pdMX_Vs9Fcn"
      },
      "outputs": [],
      "source": [
        "!python --version"
      ]
    },
    {
      "cell_type": "markdown",
      "metadata": {
        "colab_type": "text",
        "id": "hoJ4YPx7addt"
      },
      "source": [
        "No need to install the system dependencies, Colab comes with batteries included :)"
      ]
    },
    {
      "cell_type": "code",
      "execution_count": 0,
      "metadata": {
        "colab": {},
        "colab_type": "code",
        "id": "_g_feV8qZGDb"
      },
      "outputs": [],
      "source": [
        "#!apt-get install git cmake python3 python3-dev python3-pip python3-setuptools python3-wheel"
      ]
    },
    {
      "cell_type": "markdown",
      "metadata": {
        "colab_type": "text",
        "id": "-go8n95la5rw"
      },
      "source": [
        "Clone [open_spiel](https://github.com/deepmind/open_spiel) repository and pull in source dependencies:  [pybind11](https://github.com/pybind/pybind11), [DDS](https://github.com/jblespiau/dds), [abseil](https://github.com/abseil)"
      ]
    },
    {
      "cell_type": "code",
      "execution_count": 0,
      "metadata": {
        "colab": {},
        "colab_type": "code",
        "id": "L6jZX5Ge9wD8"
      },
      "outputs": [],
      "source": [
        "%cd /usr/local\n",
        "!git clone https://github.com/deepmind/open_spiel\n",
        "%cd open_spiel\n",
        "!git clone -b 'v2.2.4' --single-branch --depth 1 https://github.com/pybind/pybind11.git\n",
        "!git clone -b 'develop' --single-branch --depth 1 https://github.com/jblespiau/dds.git  open_spiel/games/bridge/double_dummy_solver\n",
        "!git clone -b 'master' --single-branch --depth 15 https://github.com/abseil/abseil-cpp.git open_spiel/abseil-cpp\n",
        "!pushd open_spiel/abseil-cpp && git checkout '40a0e58' && popd\n"
      ]
    },
    {
      "cell_type": "markdown",
      "metadata": {
        "colab_type": "text",
        "id": "_IijRaWhbrxI"
      },
      "source": [
        "No need to include all the Python requirements either. Most is already baked in."
      ]
    },
    {
      "cell_type": "code",
      "execution_count": 0,
      "metadata": {
        "colab": {},
        "colab_type": "code",
        "id": "V9pxDPtwcVXb"
      },
      "outputs": [],
      "source": [
        "# !pip3 install -r requirements.txt\n",
        "!pip3 install --upgrade mock==3.0.5"
      ]
    },
    {
      "cell_type": "markdown",
      "metadata": {
        "colab_type": "text",
        "id": "EtIO399jcyaQ"
      },
      "source": [
        "## Build `open_spiel`"
      ]
    },
    {
      "cell_type": "code",
      "execution_count": 0,
      "metadata": {
        "colab": {},
        "colab_type": "code",
        "id": "5AFHN81u9XKr"
      },
      "outputs": [],
      "source": [
        "!mkdir -p /usr/local/open_spiel/build\n",
        "%cd /usr/local/open_spiel/build\n",
        "!CXX=clang++ cmake -DPython_TARGET_VERSION=3.6 -DCMAKE_CXX_COMPILER=${CXX} ../open_spiel\n",
        "!make -j$(nproc)\n",
        "%cd /content"
      ]
    },
    {
      "cell_type": "markdown",
      "metadata": {
        "colab_type": "text",
        "id": "cbXshy6wEH9_"
      },
      "source": [
        "## (optional) Run `CMake` tests"
      ]
    },
    {
      "cell_type": "code",
      "execution_count": 0,
      "metadata": {
        "colab": {},
        "colab_type": "code",
        "id": "k8L1Al-HEHWD"
      },
      "outputs": [],
      "source": [
        "%cd /usr/local/open_spiel/build\n",
        "!ctest -j$(nproc)\n",
        "%cd /content"
      ]
    },
    {
      "cell_type": "markdown",
      "metadata": {
        "colab_type": "text",
        "id": "w6_vb9WPAuOU"
      },
      "source": [
        "## Set `PYTHONPATH`"
      ]
    },
    {
      "cell_type": "code",
      "execution_count": 0,
      "metadata": {
        "colab": {},
        "colab_type": "code",
        "id": "XdvmS5zrAtae"
      },
      "outputs": [],
      "source": [
        "import sys\n",
        "sys.path.append('/usr/local/open_spiel')\n",
        "sys.path.append('/usr/local/open_spiel/build/python')  # for pyspiel.so"
      ]
    },
    {
      "cell_type": "code",
      "execution_count": 0,
      "metadata": {
        "colab": {},
        "colab_type": "code",
        "id": "ss85qWHe6qEZ"
      },
      "outputs": [],
      "source": [
        "# verify that Python can find the open_spiel \u0026 pyspiel modules\n",
        "import importlib\n",
        "assert importlib.util.find_spec(\"open_spiel\") is not None\n",
        "assert importlib.util.find_spec(\"pyspiel\") is not None"
      ]
    },
    {
      "cell_type": "markdown",
      "metadata": {
        "colab_type": "text",
        "id": "jUtlXZ8FBnAL"
      },
      "source": [
        "# It's play time!"
      ]
    },
    {
      "cell_type": "code",
      "execution_count": 0,
      "metadata": {
        "colab": {},
        "colab_type": "code",
        "id": "ewMXCaUw8d9Q"
      },
      "outputs": [],
      "source": [
        "import numpy as np\n",
        "import pyspiel\n",
        "\n",
        "game = pyspiel.load_game(\"tic_tac_toe\")\n",
        "state = game.new_initial_state()\n",
        "\n",
        "while not state.is_terminal():\n",
        "  state.apply_action(np.random.choice(state.legal_actions()))\n",
        "  print(str(state) + '\\n')"
      ]
    }
  ],
  "metadata": {
    "colab": {
      "collapsed_sections": [],
      "name": "install_open_spiel.ipynb",
      "provenance": [],
      "version": "0.3.2"
    },
    "kernelspec": {
      "display_name": "Python 3",
      "name": "python3"
    }
  },
  "nbformat": 4,
  "nbformat_minor": 0
}
